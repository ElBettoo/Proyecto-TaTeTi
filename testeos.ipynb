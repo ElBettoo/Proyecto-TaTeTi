{
 "cells": [
  {
   "cell_type": "code",
   "execution_count": 9,
   "metadata": {},
   "outputs": [
    {
     "name": "stdout",
     "output_type": "stream",
     "text": [
      "[1, 2, 3]\n"
     ]
    }
   ],
   "source": [
    "lista = [\n",
    "    1, 2, 3, \n",
    "    4, 5, 6, \n",
    "    7, 8, 9\n",
    "    ]\n",
    "chequeados = []\n",
    "\n",
    "steps = 1\n",
    "index = 1\n",
    "\n",
    "for number in range(0, 3):\n",
    "    chequeados.append( lista[index-1] )\n",
    "    index += steps\n",
    "\n",
    "print(chequeados)"
   ]
  },
  {
   "cell_type": "code",
   "execution_count": 11,
   "metadata": {},
   "outputs": [
    {
     "name": "stdout",
     "output_type": "stream",
     "text": [
      "[1, 9, 17, 25]\n",
      "[9, 17, 25, 33]\n",
      "[17, 25, 33, 41]\n",
      "[25, 33, 41, 49]\n"
     ]
    }
   ],
   "source": [
    "lista = [\n",
    "    [1, 2, 3, 4, 5, 6, 7],\n",
    "    [8, 9, 10, 11, 12, 13, 14],\n",
    "    [15, 16, 17, 18, 19, 20, 21],\n",
    "    [22, 23, 24, 25, 26, 27, 28],\n",
    "    [29, 30, 31, 32, 33, 34, 35],\n",
    "    [36, 37, 38, 39, 40, 41, 42],\n",
    "    [43, 44, 45, 46, 47, 48, 49]\n",
    "]\n",
    "\n",
    "\n",
    "def get_possible_cords_by_last_move(tablero: list[list[int]], last_move: tuple[int, int]): #LeftToRightDiagonal \n",
    "    win_length = 4\n",
    "    move_pos_x, move_pos_y = last_move \n",
    "\n",
    "    distancia_minima = min(move_pos_x, move_pos_y, win_length-1) # Valor minimo entre los casilleros para salirse del tablero en 'x' e 'y' y ademas la distancia para ganar necesaria\n",
    "    start_pos_x = move_pos_x - distancia_minima\n",
    "    start_pos_y = move_pos_y - distancia_minima\n",
    "\n",
    "    full_diagonal = []\n",
    "    casilleros_despues_de_last_move = 0\n",
    "    #        Mientras no se salga del tablero   y   Mientras la posicion no este a 'win_length' de Last_Move\n",
    "    while (start_pos_x <= 6 and start_pos_y <= 6) and (casilleros_despues_de_last_move < win_length): # 2 = max_x - 1       (-1) porque el indice arranca de 0\n",
    "        full_diagonal.append((start_pos_x, start_pos_y)) # Esto devuelve todas las posiciones de la diagonal entera\n",
    "        start_pos_x += 1\n",
    "        start_pos_y += 1\n",
    "\n",
    "        if last_move in full_diagonal:\n",
    "            casilleros_despues_de_last_move += 1\n",
    "\n",
    "    # EJEMPLO: \n",
    "    # win_length = 4\n",
    "    # last_move = (2,2)\n",
    "    #                                                    La cordenada (6,6) ya no se agrega porque esta afuera del rango de ganar con last_move\n",
    "    # full_diagonal = [(0,0),(1,1),(2,2),(3,3),(4,4),(5,5),(6,6)]\n",
    "\n",
    "\n",
    "    ################################# RESPONSABILIDADES DISTINTAS ##################################\n",
    "\n",
    "\n",
    "\n",
    "    #  Todas las posiciones/coordenadas de la diagonal - Posiciones necesarias para ganar. Si no hay suficientes posiciones en la diagonal para poder ganar, no se ejecuta, da 0\n",
    "    spaces_for_win = max(0,  len(full_diagonal) - (win_length - 1))\n",
    "    index = 0\n",
    "\n",
    "    for possible_win in range(spaces_for_win): # Esto calcula todas las combinaciones posibles en base a todos los valores de la diagonal \n",
    "        combination = []\n",
    "        \n",
    "        for ficha_pos in range(win_length):\n",
    "            pos_x, pos_y = full_diagonal[ficha_pos + index]\n",
    "            combination.append(tablero[pos_y][pos_x])\n",
    "        index += 1\n",
    "\n",
    "        \n",
    "        print(combination)\n",
    "\n",
    "\n",
    "\n",
    "get_possible_cords_by_last_move(lista, (3,3))\n",
    "\n"
   ]
  },
  {
   "cell_type": "code",
   "execution_count": 10,
   "metadata": {},
   "outputs": [
    {
     "name": "stdout",
     "output_type": "stream",
     "text": [
      "\u001b[91m Hola \u001b[41m    \n"
     ]
    }
   ],
   "source": [
    "print(\"\\033[91m\", \"Hola\", \"\\033[41m\", \"  asdsadsad \")"
   ]
  }
 ],
 "metadata": {
  "kernelspec": {
   "display_name": "Python 3",
   "language": "python",
   "name": "python3"
  },
  "language_info": {
   "codemirror_mode": {
    "name": "ipython",
    "version": 3
   },
   "file_extension": ".py",
   "mimetype": "text/x-python",
   "name": "python",
   "nbconvert_exporter": "python",
   "pygments_lexer": "ipython3",
   "version": "3.10.3"
  }
 },
 "nbformat": 4,
 "nbformat_minor": 2
}
